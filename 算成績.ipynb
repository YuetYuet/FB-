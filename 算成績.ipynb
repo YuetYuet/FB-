{
 "cells": [
  {
   "cell_type": "code",
   "execution_count": 28,
   "id": "b7844038",
   "metadata": {
    "scrolled": true
   },
   "outputs": [
    {
     "name": "stdout",
     "output_type": "stream",
     "text": [
      "   name  class  score  apple  banana  grape\n",
      "0    30     18     22     10      23     14\n",
      "-----------------\n",
      "0    30\n",
      "Name: name, dtype: int64\n",
      "0    48\n",
      "Name: name, dtype: int64\n",
      "0    70\n",
      "Name: name, dtype: int64\n",
      "0    80\n",
      "Name: name, dtype: int64\n",
      "0    103\n",
      "Name: name, dtype: int64\n",
      "0    117\n",
      "Name: name, dtype: int64\n"
     ]
    }
   ],
   "source": [
    "import pandas as pd\n",
    "\n",
    "grades={\n",
    "    \"name\":[30],\n",
    "    \"class\":[18],\n",
    "    \"score\":[22],\n",
    "    \"apple\":[10],\n",
    "    \"banana\":[23],\n",
    "    \"grape\":[14]\n",
    "    \n",
    "}\n",
    "new1=pd.DataFrame(grades)\n",
    "total=0\n",
    "for key in new1:\n",
    "    total+=new1[key]\n",
    "    print(total)\n"
   ]
  },
  {
   "cell_type": "code",
   "execution_count": 9,
   "id": "50aa7f0f",
   "metadata": {},
   "outputs": [
    {
     "name": "stdout",
     "output_type": "stream",
     "text": [
      "        派森  百科\n",
      "level1   3   2\n",
      "level2   0   2\n",
      "level3   1   1\n",
      "----------------------\n",
      "4\n"
     ]
    }
   ],
   "source": [
    "import pandas as pd\n",
    "\n",
    "member={'派森': \n",
    "            {'level1': 3, 'level2': 0, 'level3': 1}, \n",
    "        '百科': \n",
    "            {'level1': 2, 'level2': 2, 'level3': 1}\n",
    "       }\n",
    "\n",
    "new1=pd.DataFrame(member)\n",
    "print(new1)\n",
    "print(\"----------------------\")\n",
    "\n",
    "total=0\n",
    "\n",
    "for num in new1[\"派森\"]:\n",
    "    total+=num    \n",
    "print(total)\n",
    "\n"
   ]
  },
  {
   "cell_type": "code",
   "execution_count": 18,
   "id": "00d8b038",
   "metadata": {},
   "outputs": [
    {
     "name": "stdout",
     "output_type": "stream",
     "text": [
      "2\n",
      "2\n",
      "2\n",
      "2\n",
      "2\n",
      "2\n",
      "2\n",
      "2\n"
     ]
    }
   ],
   "source": [
    "a=['116842771018615_996094027734065', '116842904351935_330243932419466', '百科', '116842904351935_717524902796440', '派森', '116842904351935_717524902796440','百科']\n",
    "\n",
    "for x in range(4):\n",
    "    count=a.index(\"百科\")\n",
    "    print(a.index(\"百科\"))\n",
    "    print(a.index(\"百科\",count))\n",
    "    \n",
    "    \n",
    "# print(a[a.index(\"百科\")-1])\n",
    "\n"
   ]
  }
 ],
 "metadata": {
  "kernelspec": {
   "display_name": "Python 3 (ipykernel)",
   "language": "python",
   "name": "python3"
  },
  "language_info": {
   "codemirror_mode": {
    "name": "ipython",
    "version": 3
   },
   "file_extension": ".py",
   "mimetype": "text/x-python",
   "name": "python",
   "nbconvert_exporter": "python",
   "pygments_lexer": "ipython3",
   "version": "3.9.7"
  },
  "vp": {
   "vp_config_version": "1.0.0",
   "vp_menu_width": 273,
   "vp_note_display": true,
   "vp_note_width": 263,
   "vp_position": {
    "width": 541
   },
   "vp_section_display": false,
   "vp_signature": "VisualPython"
  }
 },
 "nbformat": 4,
 "nbformat_minor": 5
}
